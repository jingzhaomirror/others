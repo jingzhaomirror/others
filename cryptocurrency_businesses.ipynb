{
 "cells": [
  {
   "cell_type": "markdown",
   "metadata": {},
   "source": [
    "Job requirement:\n",
    "https://www.upwork.com/ab/f/offer/10061018\n",
    "\n",
    "Deliverable is csv with all businesses that accept crypto in given target markets with all data points included. \n",
    "\n",
    "Target Markets: \n",
    "New York City (including surrounding boroughs), NY \n",
    "Atlanta Metro , GA \n",
    "Chicago, IL \n",
    "Washington DC \n",
    "Miami, FL \n",
    "Philadelphia, PA \n",
    "Houston, TX \n",
    "Detroit ,MI \n",
    "Memphis , TN \n",
    "Baltimore , MD \n",
    "Los Angeles , CA \n",
    "Dallas , TX \n",
    "Charlotte, NC \n",
    "Jacksonville, FL \n",
    "Milwaukee, WI \n",
    "Indianapolis, IN \n",
    "Columbus, OH \n",
    "Cleveland, OH \n",
    "New Orleans , LA \n",
    "Nashville, TN \n",
    "St. Lous, MO \n",
    "Birmingham, AL \n",
    "Boston, MA \n",
    "Newark, NJ \n",
    "Jackson, MS \n",
    "Kansas City, MO \n",
    "Louiville, KY \n",
    "Baton Rouge, LA \n",
    "Cincinnati , OH \n",
    "Raleigh , NC \n",
    "Montgomery, AL \n",
    "Greensboro, NC \n",
    "Oakland, CA \n",
    "Shreveport, LA \n",
    "Augusta, GA \n",
    "Norfolk, VA \n",
    "Richmond, VA \n",
    "Buffalo, NY \n",
    "Mobile, AL \n",
    "Durham, NC \n",
    "Macon, GA \n",
    "\n",
    "Data Points: \n",
    "Business Name \n",
    "Business Type (restaurant, bakery, etc) please be specific i.e Italian Restaurant \n",
    "Location (Address) \n",
    "Phone Number \n",
    "Website \n",
    "\n",
    "Can utilize Coinmap,org plus other web/online resources to compile csv."
   ]
  },
  {
   "cell_type": "code",
   "execution_count": 1,
   "metadata": {},
   "outputs": [],
   "source": [
    "import warnings\n",
    "warnings.filterwarnings('ignore')\n",
    "\n",
    "import requests\n",
    "import pandas as pd\n",
    "import geopy\n",
    "import numpy as np"
   ]
  },
  {
   "cell_type": "markdown",
   "metadata": {},
   "source": [
    "# 1. Get all detailed data from Upwork"
   ]
  },
  {
   "cell_type": "code",
   "execution_count": 2,
   "metadata": {},
   "outputs": [],
   "source": [
    "# # total entry: 14479 (query performed on March 24, 2019), use chunk_size = 1000\n",
    "\n",
    "# dfs = []\n",
    "# for c in range(0, 15000, 1000):\n",
    "#     print(c)\n",
    "#     url='https://coinmap.org/api/v1/venues/?offset={}&limit=1000&mode=full'.format(c)\n",
    "#     response = requests.get(url)\n",
    "#     print(response)\n",
    "#     try:\n",
    "#         data = response.json()['venues']\n",
    "#         df = pd.DataFrame(data)\n",
    "#         dfs.append(df)\n",
    "#     except:\n",
    "#         pass\n",
    "\n",
    "# data = pd.concat(dfs, ignore_index=True)\n",
    "\n",
    "# # note: problem with 6511, 6528, 10112, 10113, 13476, 13484, 13791-13795, 13797-13816, response showing a \"500: Internal Server Error\"\n",
    "# # total valid entries: 14479-6-5-20=14479-31=14448 "
   ]
  },
  {
   "cell_type": "code",
   "execution_count": 3,
   "metadata": {},
   "outputs": [],
   "source": [
    "# update category column to lower cases: unify 'atm' and 'ATM', 'grocery' and 'Grocery'\n",
    "data['category'] = data.category.str.lower()"
   ]
  },
  {
   "cell_type": "code",
   "execution_count": 4,
   "metadata": {},
   "outputs": [],
   "source": [
    "# save all raw data to csv\n",
    "data.to_csv('coinmap_all_raw.csv', index=False)"
   ]
  },
  {
   "cell_type": "markdown",
   "metadata": {},
   "source": [
    "# 2. Finding missing address information based on geo coordinates\n",
    "\n",
    "## Geocoordinates decode using 'geopy' package\n",
    "The same geolocation service (OpenStreetMap) that Coinmap.org uses is chosen for decoding the geo coordinates to location information (address, city, state, postcode and country) <br>\n",
    "'geopy' python packge (Nominatim class from geopy.geocoders) is used to handle the actual geocoding queries <br>"
   ]
  },
  {
   "cell_type": "code",
   "execution_count": 5,
   "metadata": {},
   "outputs": [],
   "source": [
    "data['city_geopy'] = np.nan\n",
    "data['state_geopy'] = np.nan\n",
    "data['country_geopy'] = np.nan\n",
    "data['postcode_geopy'] = np.nan\n",
    "data['address_geopy'] = np.nan"
   ]
  },
  {
   "cell_type": "code",
   "execution_count": 6,
   "metadata": {},
   "outputs": [],
   "source": [
    "from geopy.geocoders import Nominatim\n",
    "from geopy.exc import GeocoderTimedOut\n",
    "from geopy.extra.rate_limiter import RateLimiter\n",
    "import time\n",
    "\n",
    "geolocator = Nominatim(user_agent=\"cryptocurrency\") # use geopy.geocoders to make geolocation queries\n",
    "georeverse = RateLimiter(geolocator.reverse, min_delay_seconds=1) # wait 1 second between each query\n",
    "\n",
    "def find_location(row):\n",
    "    \"\"\"find country, state, city using geopy location queries based on geocoordinates, latitude and longitude\"\"\"\n",
    "    \n",
    "    coordinates = row.lat, row.lon\n",
    " \n",
    "    # use geolocate query to find the address based on geo coordinates\n",
    "    try:\n",
    "        location = georeverse(coordinates,timeout=20)\n",
    "        \n",
    "        row['address_geopy'] = location.address\n",
    "        if 'city' in location.raw['address']:\n",
    "            row['city_geopy'] = location.raw['address']['city']\n",
    "        if 'state' in location.raw['address']:\n",
    "            row['state_geopy'] = location.raw['address']['state']\n",
    "        if 'country_code' in location.raw['address']:\n",
    "            row['country_geopy'] = location.raw['address']['country_code']\n",
    "        if 'postcode' in location.raw['address']:\n",
    "            row['postcode_geopy'] = location.raw['address']['postcode']\n",
    "    \n",
    "    except GeocoderTimedOut as e:\n",
    "        print(\"Error: geocode failed to locate the address of coordinates lat:{} lon: {} with message {}\".format(lat, lon, e.message))\n",
    "    \n",
    "    return row"
   ]
  },
  {
   "cell_type": "code",
   "execution_count": 7,
   "metadata": {},
   "outputs": [],
   "source": [
    "for n in range(0,14400,200):\n",
    "    try:\n",
    "        data.iloc[n:n+200] = data.iloc[n:n+200].apply(find_location, axis=1)\n",
    "    except:\n",
    "        print(\"error occured at range:{}-{}\".format(n, n+200))\n",
    "        pass\n",
    "    \n",
    "data.iloc[14400:14448] = data.iloc[14400:14448].apply(find_location, axis=1)\n",
    "\n",
    "# note: error reported at 13208, unable to find location for 13208\n",
    "# drop entry 13208, as geopy was not able to decode the address (located on the Ocean) and the country code is not 'US'\n",
    "data=data.dropna(axis=0, subset=['country_geopy'])"
   ]
  },
  {
   "cell_type": "code",
   "execution_count": 8,
   "metadata": {},
   "outputs": [],
   "source": [
    "# convert country code to upper case\n",
    "data['country_geopy'] = data.country_geopy.str.upper()"
   ]
  },
  {
   "cell_type": "code",
   "execution_count": 9,
   "metadata": {},
   "outputs": [],
   "source": [
    "# save combined data to csv\n",
    "data.to_csv('coinmap_geopy_combined.csv', index=False)"
   ]
  },
  {
   "cell_type": "markdown",
   "metadata": {},
   "source": [
    "# 3. Filter to the markets of interet only\n",
    "\n",
    "All unique categories from Coinmap are: <br>\n",
    "'atm', 'default', 'grocery', 'food', 'shopping', 'lodging', 'nightlife', 'attraction', 'transport', 'cafe', 'sports','trezor retailer', 'drug store', 'travel agency','educational business'. "
   ]
  },
  {
   "cell_type": "markdown",
   "metadata": {},
   "source": [
    "## 3.1 Geodata consistency check between Coinmap and geopy results"
   ]
  },
  {
   "cell_type": "code",
   "execution_count": 10,
   "metadata": {
    "scrolled": false
   },
   "outputs": [],
   "source": [
    "# data consistency check\n",
    "\n",
    "# check country code consistency between coinmap and geopy query results, only focus on results related to US locations\n",
    "print(data[(data.country != data.country_geopy)&(data.country_geopy == 'US')&(data.country.notnull())].index)\n",
    "print(data[(data.country != data.country_geopy)&(data.country == 'US')].index)\n",
    "\n",
    "# one entry 12731 has inconsistent country code of interest: a location in Puerto Rico, which is considered a US territory\n",
    "# since it's not in the list of interested market, drop the entry\n",
    "data=data.drop(12731, axis=0)\n",
    "data = data.reset_index(drop=True)\n",
    "\n",
    "# entry 6406: a manual lookup by matching phone name leads to: https://www.yelp.com/biz/worlds-smallest-store-new-york\n",
    "# geocoordinates are wrong, manually update\n",
    "data.loc[6406, 'city'] = 'New York'\n",
    "data.loc[6406, 'state'] = 'New York'\n",
    "data.loc[6406, 'name'] = 'World’s Smallest Store'\n",
    "data.loc[6406, 'address_geopy'] = '131 Christopher St, New York, NY 10014'\n",
    "data.loc[6406, 'city_geopy'] = 'New York'\n",
    "data.loc[6406, 'state_geopy'] = 'New York'\n",
    "data.loc[6406, 'country_geopy'] = 'US'\n",
    "data.loc[6406, 'postcode_geopy'] = '10014'\n",
    "data.loc[6406, 'website'] = 'https://www.yelp.com/biz/worlds-smallest-store-new-york'\n",
    "data.loc[6406, 'lat'] = 40.7331022\n",
    "data.loc[6406, 'lon'] = -74.0066992\n",
    "\n",
    "# entry 8508: a manual lookup by matching phone name leads to: https://www.yelp.com/biz/aloha-crepes-aiea-4?osq=Aloha+Crepes\n",
    "# geocoordinates are wrong, manually update\n",
    "data.loc[8508, 'city'] = 'Aiea'\n",
    "data.loc[8508, 'address_geopy'] = '98-42 Kamehameha Hwy, Aiea, HI 96701'\n",
    "data.loc[8508, 'city_geopy'] = 'Aiea'\n",
    "data.loc[8508, 'state_geopy'] = 'Hawaii'\n",
    "data.loc[8508, 'country_geopy'] = 'US'\n",
    "data.loc[8508, 'postcode_geopy'] = '96701'\n",
    "data.loc[8508, 'phone'] = '(808) 483-4448'\n",
    "data.loc[8508, 'lat'] = 21.3760033\n",
    "data.loc[8508, 'lon'] = -157.933056\n",
    "\n",
    "# entry 9394: a manual lookup by matching phone name leads to: https://www.yelp.com/biz/a-and-l-licker-law-firm-st-charles\n",
    "# geocoordinates are wrong, manually update\n",
    "data.loc[9394, 'category'] = 'law firm'\n",
    "data.loc[9394, 'city'] = 'Saint Charles'\n",
    "data.loc[9394, 'state'] = 'Missouri'\n",
    "data.loc[9394, 'name'] = 'A & L, Licker Law Firm'\n",
    "data.loc[9394, 'phone'] = '(636) 916-5400'\n",
    "data.loc[9394, 'address_geopy'] = '1861 Sherman Dr, St Charles, MO 63303'\n",
    "data.loc[9394, 'city_geopy'] = 'Saint Charles'\n",
    "data.loc[9394, 'state_geopy'] = 'Missouri'\n",
    "data.loc[9394, 'country_geopy'] = 'US'\n",
    "data.loc[9394, 'postcode_geopy'] = '63303'\n",
    "data.loc[9394, 'lat'] = 38.7737288\n",
    "data.loc[9394, 'lon'] = -90.5161671"
   ]
  },
  {
   "cell_type": "markdown",
   "metadata": {},
   "source": [
    "## 3.2 Filter to US businesses only\n",
    "As shown below, out of 14445 'worldwide' entries, there are 3580 'US' entries."
   ]
  },
  {
   "cell_type": "code",
   "execution_count": 11,
   "metadata": {},
   "outputs": [],
   "source": [
    "# filter to us businesses only\n",
    "data_us = data[data.country_geopy == 'US'] \n",
    "# 3580 'US' entries out of 14445 'worldwide' entries"
   ]
  },
  {
   "cell_type": "markdown",
   "metadata": {},
   "source": [
    "## 3.3 Filter to the States of interest only\n",
    "As shown below, out of 3580 US entries, there are 2505 entries from the States of interest."
   ]
  },
  {
   "cell_type": "code",
   "execution_count": 12,
   "metadata": {},
   "outputs": [],
   "source": [
    "# filter to the states of interest\n",
    "stateofinterest = ['California','Massachusetts','Indiana','Ohio','New York','Louisiana','Texas','North Carolina',\\\n",
    "                    'Florida','Maryland','New Jersey','Missouri','Pennsylvania','Michigan','Georgia',\\\n",
    "                   'Illinois','Virginia','Kentucky','Tennessee','Wisconsin','Alabama','Mississippi',\\\n",
    "                   'D.C.','District of Columbia','CA','GA','NC','AL','NY','VA','LA','OH','KY','MO','MS','NJ','MA','TN',\\\n",
    "                  'IN','WI','FL','TX','MD','MI','PA','IL']\n",
    "\n",
    "data_state = data_us[data_us.state_geopy.isin(stateofinterest)|data_us.state.isin(stateofinterest)]\n",
    "# 2505 entries for all states of interest out of 3580 US entries"
   ]
  },
  {
   "cell_type": "markdown",
   "metadata": {},
   "source": [
    "## 3.4 Cross-check and fill in missing city information using 'uszipcode' package"
   ]
  },
  {
   "cell_type": "code",
   "execution_count": 13,
   "metadata": {},
   "outputs": [],
   "source": [
    "# cross check on zipcode and city using a different geocoding library\n",
    "from uszipcode import SearchEngine\n",
    "from uszipcode import Zipcode\n",
    "\n",
    "data_state['zipcode_uszipcode'] = np.nan\n",
    "data_state['city_uszipcode'] = np.nan\n",
    "\n",
    "search = SearchEngine(simple_zipcode=True)\n",
    "def find_zipcode(row):\n",
    "    result = search.by_coordinates(row.lat, row.lon, radius=10, returns=1)\n",
    "    if len(result)>0: \n",
    "        result = result[0].to_dict()\n",
    "        row.zipcode_uszipcode = result['zipcode']\n",
    "        row.city_uszipcode = result['major_city']\n",
    "    return row\n",
    "\n",
    "data_state= data_state.apply(find_zipcode, axis=1)\n",
    "data_state['city_uszipcode'] = data_state.city_uszipcode.str.lower() # update city to all lower cases"
   ]
  },
  {
   "cell_type": "code",
   "execution_count": 14,
   "metadata": {},
   "outputs": [],
   "source": [
    "# manually fix the two missing entries for the 'city_uszipcode' and 'zipcode_uszipcode' columns\n",
    "data_state.loc[6668, 'city_uszipcode'] = 'key west'\n",
    "data_state.loc[6668, 'zipcode_uszipcode'] = '33040'\n",
    "\n",
    "data_state.loc[9703, 'city_uszipcode'] = 'mammoth lakes'\n",
    "data_state.loc[9703, 'zipcode_uszipcode'] = '93546'"
   ]
  },
  {
   "cell_type": "code",
   "execution_count": 15,
   "metadata": {},
   "outputs": [],
   "source": [
    "# check for city consistency\n",
    "data_state[(data_state.city_geopy != data_state.city_uszipcode)& data_state.city_geopy.notnull()][['state','state_geopy','city',\\\n",
    "                                                                                    'city_geopy','city_uszipcode',\\\n",
    "                                                                    'postcode_geopy','zipcode_uszipcode']].drop_duplicates()"
   ]
  },
  {
   "cell_type": "code",
   "execution_count": 16,
   "metadata": {},
   "outputs": [],
   "source": [
    "# check for postcode consistency\n",
    "data_state[(data_state.postcode_geopy != data_state.zipcode_uszipcode)][['state','state_geopy','city','city_geopy',\\\n",
    "                                                                    'postcode_geopy','zipcode_uszipcode']]"
   ]
  },
  {
   "cell_type": "markdown",
   "metadata": {},
   "source": [
    "## 3.5 Filter to the cities of interest only\n",
    "As shown below, out of the 2505 entries for all states of interest, there are 724 entries for the cities of interest. "
   ]
  },
  {
   "cell_type": "code",
   "execution_count": 17,
   "metadata": {},
   "outputs": [],
   "source": [
    "# filter to the cities of interest\n",
    "cityofinterest = {'California':['los angeles','oakland'],\n",
    "              'Massachusetts':['boston'],\n",
    "              'Indiana':['indianapolis'],\n",
    "              'Ohio':['columbus','cleveland','cincinnati'],\n",
    "              'New York':['new york','new york city','nyc','brooklyn','manhattan','queens','staten island','bronx','the bronx','buffalo'],\n",
    "              'Louisiana':['new orleans','baton rouge','shreveport'],\n",
    "              'Texas':['houston','dallas'],\n",
    "              'North Carolina':['charlotte','raleigh','greensboro','durham'],\n",
    "              'Florida':['miami','jacksonville'],\n",
    "              'Maryland':['baltimore'],\n",
    "              'New Jersey':['newark'],\n",
    "              'District of Columbia':['washington', 'washington dc'],\n",
    "              'D.C.':['washington', 'washington dc'],\n",
    "              'Missouri':['st. louis','kansas city'],\n",
    "              'Pennsylvania':['philadelphia'],\n",
    "              'Michigan':['detroit'],\n",
    "              'Georgia':['atlanta','macon','augusta'],\n",
    "              'Illinois':['chicago'],\n",
    "              'Virginia':['norfolk','richmond','richmond city'],\n",
    "              'Kentucky':['louiville'],\n",
    "              'Tennessee':['memphis','nashville','nashville-davidson'],\n",
    "              'Wisconsin':['milwaukee'],\n",
    "              'Alabama':['birmingham','montgomery','mobile','birmingham, alabama'],\n",
    "              'Mississippi':['jackson']\n",
    "             }\n",
    "\n",
    "# update city names to all lower cases\n",
    "data_state['city'] = data_state.city.str.lower()\n",
    "data_state['city_geopy'] = data_state.city_geopy.str.lower()"
   ]
  },
  {
   "cell_type": "code",
   "execution_count": 18,
   "metadata": {},
   "outputs": [],
   "source": [
    "def match_city(row):\n",
    "    if (row.state_geopy is not np.nan) and (row.state_geopy in stateofinterest):\n",
    "        state = row.state_geopy \n",
    "        if (row.city_geopy is not np.nan) and (row.city_geopy in cityofinterest[state]):\n",
    "            return True\n",
    "        if (row.city is not np.nan) and (row.city in cityofinterest[state]):\n",
    "            return True\n",
    "        aif (row.city_uszipcode is not np.nan) and (row.city_uszipcode in cityofinterest[state]):\n",
    "            return True\n",
    "    return False\n",
    "\n",
    "boolean = data_state.apply(match_city, axis=1)\n",
    "data_city = data_state[boolean]\n",
    "# 724 entries for cities of interests out of 2505 entries for all states of interest"
   ]
  },
  {
   "cell_type": "markdown",
   "metadata": {},
   "source": [
    "## 3.6 Filter to the categories of interest based on Coinmap's category label\n",
    "As shown, out of the 724 entries for the cities of interest, there are at most 698 entries in the categories of interest."
   ]
  },
  {
   "cell_type": "code",
   "execution_count": 19,
   "metadata": {
    "scrolled": true
   },
   "outputs": [],
   "source": [
    "# filter to categories of interest:'atm', 'default','grocery','food','shopping','nightlife', 'cafe','drug store'\n",
    "data_cat = data_city[data_city.category.isin(['atm', 'default','grocery','food','shopping','nightlife', \\\n",
    "                                                'cafe', 'drug store'])]\n",
    "# 698 entries of interested categories out of 724 entries for all cities of interest"
   ]
  },
  {
   "cell_type": "code",
   "execution_count": 20,
   "metadata": {},
   "outputs": [],
   "source": [
    "# check state consistency\n",
    "data_cat[(data_cat.state != data_cat.state_geopy) & (data_cat.state.notnull())][['state', 'state_geopy']].drop_duplicates()\n",
    "\n",
    "# update the inconsistent states\n",
    "data_cat.loc[data_cat.state == 'penna','state'] = 'PA'\n",
    "data_cat.loc[data_cat.state == 'Nova Iorque','state'] = 'NY'\n",
    "data_cat.loc[data_cat.state == 'Kalifornien','state'] = 'CA'\n",
    "data_cat.loc[data_cat.state == 'Нью-Йорк','state'] = 'NY'\n",
    "data_cat['state'] = data_cat['state'].str.upper()\n",
    "\n",
    "# deal with the problematic location inconsistency at entry 7954\n",
    "data_cat.loc[7954, 'city'] = 'houston'\n",
    "data_cat.loc[7954, 'houseno'] = '17395'\n",
    "data_cat.loc[7954, 'postcode'] = '77064'\n",
    "data_cat.loc[7954, 'state'] = 'TEXAS'\n",
    "data_cat.loc[7954, 'street'] = 'Tomball Pkwy'"
   ]
  },
  {
   "cell_type": "code",
   "execution_count": 21,
   "metadata": {},
   "outputs": [],
   "source": [
    "# manually fill in the one missing postcode_geopy entry\n",
    "data_cat.loc[6160, 'postcode_geopy'] = '10019'"
   ]
  },
  {
   "cell_type": "code",
   "execution_count": 22,
   "metadata": {},
   "outputs": [],
   "source": [
    "# update a few incorrect phone number formats at: \n",
    "# 791       786-505-VAPE\n",
    "# 1698    (786) 564-LOVE\n",
    "# 11867    1-855-4-BITPAY\n",
    "\n",
    "data_cat.loc[791, 'phone'] = '786-505-8273'\n",
    "data_cat.loc[1698, 'phone'] = '786-564-5683'\n",
    "data_cat.loc[11867, 'phone'] = '855-424-8729'"
   ]
  },
  {
   "cell_type": "code",
   "execution_count": 23,
   "metadata": {},
   "outputs": [],
   "source": [
    "# save the filtered data to csv\n",
    "data_cat.to_csv('coinmap_geopy_filtered.csv', index=False)"
   ]
  },
  {
   "cell_type": "markdown",
   "metadata": {},
   "source": [
    "# 4. Infer business category from business name"
   ]
  },
  {
   "cell_type": "code",
   "execution_count": 24,
   "metadata": {},
   "outputs": [],
   "source": [
    "data_cat['category_nameinfer'] = np.nan\n",
    "\n",
    "import re\n",
    "def infer_category_name(row):\n",
    "    if row['name'] is not np.nan:\n",
    "        row['category_nameinfer'] = []\n",
    "        name = str(row['name']).lower()\n",
    "        \n",
    "        categories = [' food','restaurant','cafe','café','parking','cpa','dental','shopping','apparels','church','dentist',\\\n",
    "                      'grill',' bar','attorney',' law ','autopart','auto part','autoservice','auto service',\\\n",
    "                     'boutique','antique','tourism','tourist','printing','advertising','marketplace','market place'\\\n",
    "                     'flower','consulting','store','psychiatrist','design service','designservice',' photo','computer',\\\n",
    "                     'body shop','liquor','sports',' art ','cleaning','repair','tobacco','touring',' spa',' spas ',\\\n",
    "                      'management', 'construction','studio','brew','design',' shop',' tea',' nail','apartment','rental',\\\n",
    "                     ' bbq', ' cajun','storage','seafood','chiropractise','chiropractic','jewelry','software','scooter',\\\n",
    "                     'guitar','musical','counseling','publishing','marketing',' tax','accounting','plumbing', ' jeans',\\\n",
    "                      ' donuts',' tutor',' media',' supply',' hotel',' cater','webservice','web service','podcast',\\\n",
    "                     ' pizza','pizzeria','thai ','sushi bar','sushi',' wings','recording','bistro','chinese','vietnamese',\\\n",
    "                     'dumpling','ham & egg','hot dog','eye care','eyecare','surgery','cookie','jeweler','remodel',\\\n",
    "                     'tatoo',' atm','atm ','atms','financial','auto ',' auto','solar','acupuncture','mexican',' farm',\\\n",
    "                     'farm ','farms','wireless','tavern','wellness',' gym','martial art',' bike','bike ','bikes','coffee',\\\n",
    "                     'bitcoin','lending','real estate','it service','piano','picture','imaging','theatre','motel',\\\n",
    "                     'training','flea market','building','parcel',' deli','deli ','candy story','gas station','beagle',\\\n",
    "                     'coach','cleaner','at&t','dj ',' dj','psychological service','massage','lawyer','hospital',\\\n",
    "                     'laundry',' salon','salon ','bagel','yogurt','kebob','cosmetic','gallery','clothing','dining',\\\n",
    "                     ' wine','italian','tree care','oil change','roofing','fence','fencing','tattoo','diner','painter',\\\n",
    "                      'barber','car testing','collision service','diesel','graphics','flea','bicycle','puppy','auction',\\\n",
    "                     'labs','bitpay','solution','earphone','robotic','leadership','socks','pho ','camera','service',\\\n",
    "                     'technology','3d print',' beauty','beauty ',' health','health ','mover','moving','lawn care']\n",
    "        for cat in categories:\n",
    "            if re.search(cat, name) is not None:\n",
    "                row['category_nameinfer'].append(cat)\n",
    "        row['category_nameinfer'] = ','.join(row['category_nameinfer'])\n",
    "        if len(row['category_nameinfer']) == 0:\n",
    "            row['category_nameinfer'] = np.nan\n",
    "    return row\n",
    "            \n",
    "data_cat = data_cat.apply(infer_category_name, axis=1)"
   ]
  },
  {
   "cell_type": "code",
   "execution_count": 25,
   "metadata": {},
   "outputs": [],
   "source": [
    "# still 167 entries missing category information\n",
    "len(data_cat[(data_cat.category_nameinfer.isnull())&(data_cat.category == 'default')])"
   ]
  },
  {
   "cell_type": "code",
   "execution_count": 26,
   "metadata": {},
   "outputs": [],
   "source": [
    "data_cat = data_cat.reset_index(drop=True)"
   ]
  },
  {
   "cell_type": "code",
   "execution_count": 27,
   "metadata": {},
   "outputs": [],
   "source": [
    "# save the filtered data to csv\n",
    "data_cat.to_csv('coinmap_geopy_nameinfer.csv', index=False)"
   ]
  },
  {
   "cell_type": "markdown",
   "metadata": {},
   "source": [
    "# 5. Cross-reference data from Yelp to fill in business attributes (business category and business phone)\n",
    "\n",
    "As shown, Yelp API offers several business search services: https://www.yelp.com/developers/documentation/v3/get_started <br>\n",
    "\n",
    "For the purpose of cross-referencing Coinmap data with Yelp to match business, the relevant services are:\n",
    "1. business search by phone: https://www.yelp.com/developers/documentation/v3/business_search_phone\n",
    "2. business search by location and name: https://www.yelp.com/developers/documentation/v3/business_search"
   ]
  },
  {
   "cell_type": "code",
   "execution_count": 28,
   "metadata": {},
   "outputs": [],
   "source": [
    "from __future__ import print_function\n",
    "\n",
    "import argparse\n",
    "import json\n",
    "import pprint\n",
    "import requests\n",
    "import sys\n",
    "import urllib"
   ]
  },
  {
   "cell_type": "code",
   "execution_count": 29,
   "metadata": {},
   "outputs": [],
   "source": [
    "try:\n",
    "    # For Python 3.0 and later\n",
    "    from urllib.error import HTTPError\n",
    "    from urllib.parse import quote\n",
    "    from urllib.parse import urlencode\n",
    "except ImportError:\n",
    "    # Fall back to Python 2's urllib2 and urllib\n",
    "    from urllib2 import HTTPError\n",
    "    from urllib import quote\n",
    "    from urllib import urlencode\n",
    "\n",
    "\n",
    "# Yelp Fusion no longer uses OAuth as of December 7, 2017.\n",
    "# You no longer need to provide Client ID to fetch Data\n",
    "# It now uses private keys to authenticate requests (API Key)\n",
    "# You can find it on\n",
    "# https://www.yelp.com/developers/v3/manage_app\n",
    "API_KEY= mask\n",
    "\n",
    "# API constants, you shouldn't have to change these.\n",
    "API_HOST = 'https://api.yelp.com'"
   ]
  },
  {
   "cell_type": "code",
   "execution_count": 30,
   "metadata": {},
   "outputs": [],
   "source": [
    "def request(host, path, api_key, url_params=None):\n",
    "    \"\"\"Given your API_KEY, send a GET request to the API.\n",
    "    Args:\n",
    "        host (str): The domain host of the API.\n",
    "        path (str): The path of the API after the domain.\n",
    "        API_KEY (str): Your API Key.\n",
    "        url_params (dict): An optional set of query parameters in the request.\n",
    "    Returns:\n",
    "        dict: The JSON response from the request.\n",
    "    Raises:\n",
    "        HTTPError: An error occurs from the HTTP request.\n",
    "    \"\"\"\n",
    "    url_params = url_params or {}\n",
    "    url = '{0}{1}'.format(host, quote(path.encode('utf8')))\n",
    "    headers = {\n",
    "        'Authorization': 'Bearer %s' % api_key,\n",
    "    }\n",
    "\n",
    "    # print(u'Querying {0} ...'.format(url))\n",
    "\n",
    "    response = requests.request('GET', url, headers=headers, params=url_params)\n",
    "\n",
    "    return response.json()"
   ]
  },
  {
   "cell_type": "markdown",
   "metadata": {},
   "source": [
    "## 5.1 Matching Yelp records by business phone number\n",
    "\n",
    "Yelp supports business search by phone: https://www.yelp.com/developers/documentation/v3/business_search_phone,\n",
    "But the input phone number must be of standard international phone number format: \n",
    "It must start with + and include the country code, like +14159083801.<br>\n",
    "\n",
    "Here, a light python library (phonenumbers python package: \n",
    "https://pypi.org/project/phonenumbers/) is used to convert various phone formats to the standard format.<br>\n",
    "\n",
    "As shown below, 162 entries out of 463 entries with phone number have been matched with Yelp records via phone number."
   ]
  },
  {
   "cell_type": "code",
   "execution_count": 31,
   "metadata": {},
   "outputs": [],
   "source": [
    "# update a problematic phone number\n",
    "data_cat.loc[79,'phone'] = '215-626-7668'"
   ]
  },
  {
   "cell_type": "code",
   "execution_count": 32,
   "metadata": {},
   "outputs": [],
   "source": [
    "# update phone formats using 'phonenumbers' python package\n",
    "import phonenumbers\n",
    "data_cat['phone_formatted'] = np.nan\n",
    "\n",
    "def format_phone(row):\n",
    "    if row['phone'] is not np.nan:\n",
    "        phonenum = phonenumbers.parse(row['phone'],'US')\n",
    "        row['phone_formatted'] = phonenumbers.format_number(phonenum, phonenumbers.PhoneNumberFormat.E164)\n",
    "    return row\n",
    "\n",
    "data_cat = data_cat.apply(format_phone, axis=1)"
   ]
  },
  {
   "cell_type": "code",
   "execution_count": 33,
   "metadata": {},
   "outputs": [],
   "source": [
    "def yelp_match_by_phone(row):   \n",
    "    SEARCH_PATH = '/v3/businesses/search/phone'\n",
    "    \n",
    "    if row.phone_formatted is not np.nan: \n",
    "        data = request(API_HOST, SEARCH_PATH, API_KEY, url_params={'phone': row.phone_formatted})\n",
    "        if 'error' in data: \n",
    "            return np.nan\n",
    "        else:\n",
    "            return data\n",
    "    else:\n",
    "        return np.nan"
   ]
  },
  {
   "cell_type": "code",
   "execution_count": 34,
   "metadata": {},
   "outputs": [],
   "source": [
    "yelp_phone = data_cat.apply(yelp_match_by_phone, axis=1)\n",
    "yelp_phone = pd.DataFrame(yelp_phone)\n",
    "yelp_phone.columns = ['results']"
   ]
  },
  {
   "cell_type": "code",
   "execution_count": 35,
   "metadata": {},
   "outputs": [],
   "source": [
    "yelp_phone['total'] = np.nan\n",
    "yelp_phone['businesses'] = np.nan\n",
    "yelp_phone['name_yelp'] = np.nan\n",
    "\n",
    "def unpack_phone(row):\n",
    "    if row is not np.nan:\n",
    "        row['total'] = row.results['total']\n",
    "        row['businesses'] = row.results['businesses']\n",
    "        row.name_yelp = []\n",
    "        for i in row['businesses']:\n",
    "            row['name_yelp'].append(i['name'])\n",
    "        row['name_yelp'] = ','.join(row['name_yelp'])\n",
    "    return row\n",
    "\n",
    "yelp_phone.loc[yelp_phone.results.notnull(), :] = yelp_phone[yelp_phone.results.notnull()].apply(unpack_phone, axis=1)"
   ]
  },
  {
   "cell_type": "code",
   "execution_count": 36,
   "metadata": {},
   "outputs": [],
   "source": [
    "# check matching results\n",
    "yelp_phone.total.value_counts()\n",
    "\n",
    "# 143+15+4 =162 entries have been matched with Yelp records via phone number: \n",
    "# note: some businesses have multiple matches from Yelp, further investigation shows that these are typically caused by\n",
    "# businesses change their name over time, but the phone number, address all remain the same, indicating the same type of business"
   ]
  },
  {
   "cell_type": "code",
   "execution_count": 37,
   "metadata": {},
   "outputs": [],
   "source": [
    "yelp_phone_matched = yelp_phone[(yelp_phone.total != 0) & yelp_phone.total.notnull()]\n",
    "\n",
    "# extract category from yelp matched records\n",
    "yelp_phone_matched['category_yelp']= yelp_phone_matched.apply(lambda x: ','.join(set([j['title'] for i in x.businesses \\\n",
    "                                                                                 for j in i['categories']])), axis=1)\n",
    "\n",
    "# extract address from yelp matched records\n",
    "yelp_phone_matched['address_yelp']=yelp_phone_matched.apply(lambda x: ','.join(x.businesses[0]['location']['display_address']),\\\n",
    "                                                                    axis=1)\n",
    "\n",
    "# update index name\n",
    "yelp_phone_matched.index.name='id'\n",
    "yelp_phone_matched = yelp_phone_matched[['name_yelp','category_yelp','address_yelp']]\n",
    "\n",
    "# join yelp_phone_matched with data_cat\n",
    "data_cat = data_cat.merge(yelp_phone_matched, how='left', left_index=True, right_index=True)"
   ]
  },
  {
   "cell_type": "code",
   "execution_count": 38,
   "metadata": {},
   "outputs": [],
   "source": [
    "# save the joined data to csv\n",
    "data_cat.to_csv('coinmap_geopy_nameinfer_yelpphone.csv', index=False)"
   ]
  },
  {
   "cell_type": "code",
   "execution_count": 39,
   "metadata": {},
   "outputs": [],
   "source": [
    "# still 130 entries without business category information\n",
    "len(data_cat[(data_cat.category == 'default')& data_cat.category_nameinfer.isnull() & data_cat.category_yelp.isnull()])"
   ]
  },
  {
   "cell_type": "markdown",
   "metadata": {},
   "source": [
    "## 5.2 Matching Yelp records by business address & name\n",
    "\n",
    "business search by location and name: https://www.yelp.com/developers/documentation/v3/business_search <br>\n",
    "As shown, 21 entries out of the 130 entries missing category information are matched by location and name. "
   ]
  },
  {
   "cell_type": "code",
   "execution_count": 40,
   "metadata": {},
   "outputs": [],
   "source": [
    "# extract coinmap address from address-related columns\n",
    "def combined_address(row):\n",
    "    addr_cols = ['houseno','street','city','state_geopy', 'postcode']\n",
    "    address = ','.join([row[i] for i in addr_cols if row[i] is not np.nan])\n",
    "    if row['houseno'] is not np.nan and row['street'] is not np.nan:\n",
    "        address = address.replace(',',' ', 1)\n",
    "    if len(address) > 1:\n",
    "        return address\n",
    "    else:\n",
    "        return np.nan\n",
    "    \n",
    "data_cat['coinmap_address'] = data_cat.apply(combined_address, axis=1)"
   ]
  },
  {
   "cell_type": "code",
   "execution_count": 41,
   "metadata": {},
   "outputs": [],
   "source": [
    "missing = data_cat[(data_cat.category == 'default')& data_cat.category_nameinfer.isnull() & data_cat.category_yelp.isnull()]"
   ]
  },
  {
   "cell_type": "code",
   "execution_count": 42,
   "metadata": {},
   "outputs": [],
   "source": [
    "def yelp_match_by_address_name(row):   \n",
    "    SEARCH_PATH = '/v3/businesses/search'\n",
    "    if row['coinmap_address'] is not np.nan:\n",
    "        data = request(API_HOST, SEARCH_PATH, API_KEY, url_params={'location':row.coinmap_address,'term':row['name']})\n",
    "        return data\n",
    "    else:\n",
    "        return np.nan"
   ]
  },
  {
   "cell_type": "code",
   "execution_count": 43,
   "metadata": {},
   "outputs": [],
   "source": [
    "yelp_addressname = missing.apply(yelp_match_by_address_name, axis=1)\n",
    "yelp_addressname = pd.DataFrame(yelp_addressname)\n",
    "yelp_addressname.columns = ['results']"
   ]
  },
  {
   "cell_type": "code",
   "execution_count": 44,
   "metadata": {},
   "outputs": [],
   "source": [
    "yelp_addressname['total'] = np.nan\n",
    "yelp_addressname['businesses'] = np.nan\n",
    "yelp_addressname['name_yelp'] = np.nan\n",
    "\n",
    "def unpack_addressname(row):\n",
    "    if row.results is not np.nan:\n",
    "        if 'total' in row.results:\n",
    "            row['total'] = row.results['total']\n",
    "        if 'businesses' in row.results:\n",
    "            row['businesses'] = row.results['businesses']\n",
    "            row.name_yelp = []\n",
    "            for i in row['businesses']:\n",
    "                row['name_yelp'].append(i['name'])\n",
    "    return row\n",
    "\n",
    "yelp_addressname = yelp_addressname.apply(unpack_addressname, axis=1)\n",
    "yelp_addressname = yelp_addressname.loc[yelp_addressname.total >0]"
   ]
  },
  {
   "cell_type": "code",
   "execution_count": 45,
   "metadata": {},
   "outputs": [],
   "source": [
    "data_cat['phone_yelp_2'] = np.nan\n",
    "data_cat['category_yelp_2'] = np.nan\n",
    "data_cat['address_yelp_2'] = np.nan\n",
    "data_cat['name_yelp_2'] = np.nan\n",
    "\n",
    "# update based on the match results\n",
    "index_list = [11, 60, 65, 72, 81, 126, 144, 212, 218, 245, 247, 262, 322, 327, 550, 557]\n",
    "for idx in index_list:\n",
    "    data_cat.loc[idx, 'name_yelp_2'] = yelp_addressname.loc[idx,'name_yelp'][0]\n",
    "    data_cat.loc[idx,'category_yelp_2'] = ','.join(set([i['title'] for i in yelp_addressname.loc[idx, 'businesses'][0]['categories']]))\n",
    "    data_cat.loc[idx,'address_yelp_2'] = ','.join(yelp_addressname.loc[idx, 'businesses'][0]['location']['display_address'])\n",
    "    data_cat.loc[idx, 'phone_yelp_2'] = yelp_addressname.loc[idx, 'businesses'][0]['phone']\n",
    "    \n",
    "index_list = [165, 177, 284, 313, 491]\n",
    "for idx in index_list:\n",
    "    data_cat.loc[idx,'category_yelp_2'] = ','.join(set([i['title'] for i in yelp_addressname.loc[idx, 'businesses']\\\n",
    "                                                      [0]['categories']]))"
   ]
  },
  {
   "cell_type": "code",
   "execution_count": 46,
   "metadata": {},
   "outputs": [],
   "source": [
    "# still 109 entries missing category information\n",
    "len(data_cat[(data_cat.category == 'default')& data_cat.category_nameinfer.isnull() & data_cat.category_yelp.isnull() \\\n",
    "        & data_cat.category_yelp_2.isnull()])"
   ]
  },
  {
   "cell_type": "markdown",
   "metadata": {},
   "source": [
    "## 5.3 Matching Yelp records by business geocoordinates & name\n",
    "5 entries out of the remaining 109 entries with missing category information are fixed."
   ]
  },
  {
   "cell_type": "code",
   "execution_count": 47,
   "metadata": {},
   "outputs": [],
   "source": [
    "def yelp_match_by_coordinate_name(row):   \n",
    "    SEARCH_PATH = '/v3/businesses/search'\n",
    "    data = request(API_HOST, SEARCH_PATH, API_KEY, url_params={'latitude':row.lat, 'longitude': row.lon, 'term': row['name']})\n",
    "    return data"
   ]
  },
  {
   "cell_type": "code",
   "execution_count": 48,
   "metadata": {},
   "outputs": [],
   "source": [
    "missing = data_cat[(data_cat.category == 'default')& data_cat.category_nameinfer.isnull() & data_cat.category_yelp.isnull() \\\n",
    "         & data_cat.category_yelp_2.isnull()]"
   ]
  },
  {
   "cell_type": "code",
   "execution_count": 49,
   "metadata": {},
   "outputs": [],
   "source": [
    "yelp_coordinatename = missing.apply(yelp_match_by_coordinate_name, axis=1)\n",
    "yelp_coordinatename = pd.DataFrame(yelp_coordinatename)\n",
    "yelp_coordinatename.columns = ['results']"
   ]
  },
  {
   "cell_type": "code",
   "execution_count": 50,
   "metadata": {},
   "outputs": [],
   "source": [
    "yelp_coordinatename['total'] = np.nan\n",
    "yelp_coordinatename['businesses'] = np.nan\n",
    "yelp_coordinatename['name_yelp'] = np.nan\n",
    "\n",
    "def unpack_coordinatename(row):\n",
    "    if row.results is not np.nan:\n",
    "        if 'total' in row.results:\n",
    "            row['total'] = row.results['total']\n",
    "        if 'businesses' in row.results:\n",
    "            row['businesses'] = row.results['businesses']\n",
    "            row.name_yelp = []\n",
    "            for i in row['businesses']:\n",
    "                row['name_yelp'].append(i['name'])\n",
    "    return row\n",
    "\n",
    "yelp_coordinatename = yelp_coordinatename.apply(unpack_coordinatename, axis=1)\n",
    "yelp_coordinatename = yelp_coordinatename[yelp_coordinatename.total>0]"
   ]
  },
  {
   "cell_type": "code",
   "execution_count": 51,
   "metadata": {},
   "outputs": [],
   "source": [
    "data_cat['category_yelp_3'] = np.nan\n",
    "\n",
    "# update based on the match results \n",
    "index_list = [17]\n",
    "for idx in index_list:\n",
    "    data_cat.loc[idx,'category_yelp_3'] = ','.join(set([i['title'] for i in \\\n",
    "                                                        yelp_coordinatename.loc[idx, 'businesses'][0]['categories']]))\n",
    "\n",
    "data_cat.loc[20,'category_nameinfer'] = 'dating platform'\n",
    "data_cat.loc[136,'category_nameinfer'] = 'design, cabinetry'\n",
    "data_cat.loc[445,'category_nameinfer'] = 'gas station'\n",
    "data_cat.loc[600,'category_nameinfer'] = 'live chat support'"
   ]
  },
  {
   "cell_type": "code",
   "execution_count": 52,
   "metadata": {},
   "outputs": [],
   "source": [
    "# still 104 entries missing category information\n",
    "len(data_cat[(data_cat.category == 'default')& data_cat.category_nameinfer.isnull() & data_cat.category_yelp.isnull() \\\n",
    "        & data_cat.category_yelp_2.isnull() & data_cat.category_yelp_3.isnull()])"
   ]
  },
  {
   "cell_type": "code",
   "execution_count": 53,
   "metadata": {},
   "outputs": [],
   "source": [
    "# save the joined data to csv\n",
    "data_cat.to_csv('coinmap_geopy_nameinfer_yelpphone_yelplocation.csv', index=False)"
   ]
  },
  {
   "cell_type": "markdown",
   "metadata": {},
   "source": [
    "# 6. Infer business category using business description from Coinmap.com\n",
    "\n",
    "29 entries with missing category information are inferred from business description. "
   ]
  },
  {
   "cell_type": "code",
   "execution_count": 54,
   "metadata": {},
   "outputs": [],
   "source": [
    "missing = data_cat[(data_cat.category == 'default')& data_cat.category_nameinfer.isnull() & data_cat.category_yelp.isnull() \\\n",
    "        & data_cat.category_yelp_2.isnull() & data_cat.category_yelp_3.isnull()]"
   ]
  },
  {
   "cell_type": "code",
   "execution_count": 55,
   "metadata": {},
   "outputs": [],
   "source": [
    "data_cat['category_descriptioninfer'] = np.nan\n",
    "\n",
    "import re\n",
    "def infer_category_description(row):\n",
    "    if row['description'] is not np.nan:\n",
    "        row['category_descriptioninfer'] = []\n",
    "        desc = str(row['description']).lower()\n",
    "        \n",
    "        categories = ['litigation','network','video and animation production','animation video production','blockchain',\\\n",
    "                     'lifestyle advisor','law firm','life coach','web development','telephone company','web design',\\\n",
    "                     'machine shop','photography','marketing','advertising','self-improvement','home improvement',\\\n",
    "                     'homebuilder','support','software','digital content']\n",
    "        for cat in categories:\n",
    "            if re.search(cat, desc) is not None:\n",
    "                row['category_descriptioninfer'].append(cat)\n",
    "        row['category_descriptioninfer'] = ','.join(row['category_descriptioninfer'])\n",
    "        \n",
    "        if len(row['category_descriptioninfer']) == 0:\n",
    "            row['category_descriptioninfer'] = np.nan\n",
    "    return row\n",
    "            \n",
    "data_cat = data_cat.apply(infer_category_description, axis=1)"
   ]
  },
  {
   "cell_type": "code",
   "execution_count": 56,
   "metadata": {},
   "outputs": [],
   "source": [
    "# still 75 entries missing category information\n",
    "len(data_cat[(data_cat.category == 'default')& data_cat.category_nameinfer.isnull() & data_cat.category_yelp.isnull() \\\n",
    "        & data_cat.category_yelp_2.isnull() & data_cat.category_yelp_3.isnull() & data_cat.category_descriptioninfer.isnull()])"
   ]
  },
  {
   "cell_type": "code",
   "execution_count": 57,
   "metadata": {},
   "outputs": [],
   "source": [
    "# save the joined data to csv\n",
    "data_cat.to_csv('coinmap_geopy_nameinfer_yelpphone_yelplocation_descriptioninfer.csv', index=False)"
   ]
  },
  {
   "cell_type": "markdown",
   "metadata": {},
   "source": [
    "# 7. Final cleanup\n",
    "\n",
    "There is a total of 698 records of interest, among which 79 records are missing business type, 225 records are missing phone number and 117 records are missing website. "
   ]
  },
  {
   "cell_type": "code",
   "execution_count": 59,
   "metadata": {},
   "outputs": [],
   "source": [
    "data_cat = pd.read_csv('coinmap_geopy_nameinfer_yelpphone_yelplocation_descriptioninfer.csv', \\\n",
    "                    dtype={'phone_formatted': 'object','phone_yelp_2': 'object', 'zipcode_uszipcode':'object'})"
   ]
  },
  {
   "cell_type": "markdown",
   "metadata": {},
   "source": [
    "## 7.1 Business name"
   ]
  },
  {
   "cell_type": "code",
   "execution_count": 65,
   "metadata": {},
   "outputs": [],
   "source": [
    "final = pd.DataFrame()\n",
    "final['name_coinmap'] = data_cat['name']\n",
    "\n",
    "def find_yelp_name(row):\n",
    "    if row['name_yelp'] is not np.nan:\n",
    "        return row['name_yelp']\n",
    "    else: \n",
    "        return row['name_yelp_2']\n",
    "\n",
    "final['name_yelp'] = data_cat.apply(find_yelp_name, axis=1)"
   ]
  },
  {
   "cell_type": "markdown",
   "metadata": {},
   "source": [
    "## 7.2 Business type"
   ]
  },
  {
   "cell_type": "code",
   "execution_count": 69,
   "metadata": {},
   "outputs": [],
   "source": [
    "def find_business_type(row):\n",
    "    categories = []\n",
    "    \n",
    "    if row['category'] != 'default':\n",
    "        categories.append(row['category'])\n",
    "        \n",
    "    cols = ['category_yelp','category_yelp_2','category_yelp_3','category_nameinfer','category_descriptioninfer']\n",
    "    for col in cols:\n",
    "        if row[col] is not np.nan:\n",
    "            categories.append(row[col])\n",
    "    if len(categories)>0:\n",
    "        return ','.join(categories)\n",
    "    else:\n",
    "        return np.nan\n",
    "\n",
    "final['business_type'] = data_cat.apply(find_business_type, axis=1)"
   ]
  },
  {
   "cell_type": "markdown",
   "metadata": {},
   "source": [
    "## 7.3 Business address"
   ]
  },
  {
   "cell_type": "code",
   "execution_count": 70,
   "metadata": {},
   "outputs": [],
   "source": [
    "def find_business_address_coinmap(row): \n",
    "    if row.city_geopy is not np.nan:\n",
    "        cols = ['houseno','street','city_geopy','state_geopy', 'postcode_geopy']\n",
    "    else:\n",
    "        cols = ['houseno','street','city_uszipcode','state_geopy', 'postcode_geopy']\n",
    "    address = ','.join([row[i] for i in cols if row[i] is not np.nan])\n",
    "    \n",
    "    if row['houseno'] is not np.nan and row['street'] is not np.nan:\n",
    "        address = address.replace(',',' ', 1)\n",
    "    \n",
    "    return address\n",
    "\n",
    "def find_address_city(row):\n",
    "    if row['city_geopy'] is not np.nan:\n",
    "        return row['city_geopy']\n",
    "    else:\n",
    "        return row['city_uszipcode']\n",
    "\n",
    "def find_business_address_yelp(row):\n",
    "    address = np.nan\n",
    "    if row['address_yelp'] is not np.nan:\n",
    "        address = row['address_yelp']\n",
    "    elif row['address_yelp_2'] is not np.nan:\n",
    "        address = row['address_yelp_2']\n",
    "    return address\n",
    "        \n",
    "final['address_coinmap'] = data_cat.apply(find_business_address_coinmap, axis=1)  \n",
    "final['address_yelp'] = data_cat.apply(find_business_address_yelp, axis=1)\n",
    "final['state'] = data_cat['state_geopy']\n",
    "final['city'] = data_cat.apply(find_address_city, axis=1)"
   ]
  },
  {
   "cell_type": "markdown",
   "metadata": {},
   "source": [
    "## 7.4 Business phone number"
   ]
  },
  {
   "cell_type": "code",
   "execution_count": 72,
   "metadata": {},
   "outputs": [],
   "source": [
    "def find_business_phone(row):\n",
    "    if row['phone_formatted'] is not np.nan:\n",
    "        number = row['phone_formatted']\n",
    "    else:\n",
    "        number = row['phone_yelp_2']\n",
    "    \n",
    "    if number is not np.nan:\n",
    "        phone = phonenumbers.parse(number,'US')\n",
    "        number = phonenumbers.format_number(phone, phonenumbers.PhoneNumberFormat.NATIONAL)\n",
    "        \n",
    "    return number\n",
    "        \n",
    "final['phone'] = data_cat.apply(find_business_phone, axis=1)   "
   ]
  },
  {
   "cell_type": "markdown",
   "metadata": {},
   "source": [
    "## 7.5 Business website"
   ]
  },
  {
   "cell_type": "code",
   "execution_count": 73,
   "metadata": {},
   "outputs": [],
   "source": [
    "final['website'] = data_cat['website']"
   ]
  },
  {
   "cell_type": "markdown",
   "metadata": {},
   "source": [
    "## 7.6 Save as 'csv' file"
   ]
  },
  {
   "cell_type": "code",
   "execution_count": 74,
   "metadata": {},
   "outputs": [],
   "source": [
    "final = final[['name_coinmap','name_yelp','business_type','state','city','address_coinmap','address_yelp',\\\n",
    "               'phone','website']]\n",
    "# order the results by state first, then city\n",
    "final = final.sort_values(['state','city']).reset_index(drop=True)\n",
    "final.index.name = 'id'"
   ]
  },
  {
   "cell_type": "code",
   "execution_count": 728,
   "metadata": {},
   "outputs": [
    {
     "name": "stdout",
     "output_type": "stream",
     "text": [
      "<class 'pandas.core.frame.DataFrame'>\n",
      "RangeIndex: 698 entries, 0 to 697\n",
      "Data columns (total 9 columns):\n",
      "name_coinmap       698 non-null object\n",
      "name_yelp          178 non-null object\n",
      "business_type      619 non-null object\n",
      "state              698 non-null object\n",
      "city               698 non-null object\n",
      "address_coinmap    698 non-null object\n",
      "address_yelp       178 non-null object\n",
      "phone              473 non-null object\n",
      "website            581 non-null object\n",
      "dtypes: object(9)\n",
      "memory usage: 49.2+ KB\n"
     ]
    }
   ],
   "source": [
    "final.info()"
   ]
  },
  {
   "cell_type": "code",
   "execution_count": 729,
   "metadata": {},
   "outputs": [
    {
     "data": {
      "text/html": [
       "<div>\n",
       "<style scoped>\n",
       "    .dataframe tbody tr th:only-of-type {\n",
       "        vertical-align: middle;\n",
       "    }\n",
       "\n",
       "    .dataframe tbody tr th {\n",
       "        vertical-align: top;\n",
       "    }\n",
       "\n",
       "    .dataframe thead th {\n",
       "        text-align: right;\n",
       "    }\n",
       "</style>\n",
       "<table border=\"1\" class=\"dataframe\">\n",
       "  <thead>\n",
       "    <tr style=\"text-align: right;\">\n",
       "      <th></th>\n",
       "      <th>name_coinmap</th>\n",
       "      <th>name_yelp</th>\n",
       "      <th>business_type</th>\n",
       "      <th>state</th>\n",
       "      <th>city</th>\n",
       "      <th>address_coinmap</th>\n",
       "      <th>address_yelp</th>\n",
       "      <th>phone</th>\n",
       "      <th>website</th>\n",
       "    </tr>\n",
       "    <tr>\n",
       "      <th>id</th>\n",
       "      <th></th>\n",
       "      <th></th>\n",
       "      <th></th>\n",
       "      <th></th>\n",
       "      <th></th>\n",
       "      <th></th>\n",
       "      <th></th>\n",
       "      <th></th>\n",
       "      <th></th>\n",
       "    </tr>\n",
       "  </thead>\n",
       "  <tbody>\n",
       "    <tr>\n",
       "      <th>0</th>\n",
       "      <td>Eagle's Restaurant</td>\n",
       "      <td>Eagles Restaurant</td>\n",
       "      <td>food,Soul Food,restaurant</td>\n",
       "      <td>Alabama</td>\n",
       "      <td>birmingham</td>\n",
       "      <td>2610 16th Street North,birmingham,Alabama,35207</td>\n",
       "      <td>2610 16th St N,Birmingham, AL 35204</td>\n",
       "      <td>(205) 320-0099</td>\n",
       "      <td>http://eaglesrestaurant.menufy.com/</td>\n",
       "    </tr>\n",
       "    <tr>\n",
       "      <th>1</th>\n",
       "      <td>Greg's Hot Dogs</td>\n",
       "      <td>NaN</td>\n",
       "      <td>food,hot dog</td>\n",
       "      <td>Alabama</td>\n",
       "      <td>birmingham</td>\n",
       "      <td>birmingham,Alabama,35233</td>\n",
       "      <td>NaN</td>\n",
       "      <td>(205) 492-9172</td>\n",
       "      <td>NaN</td>\n",
       "    </tr>\n",
       "    <tr>\n",
       "      <th>2</th>\n",
       "      <td>Crestwood Tavern</td>\n",
       "      <td>Crestwood Tavern</td>\n",
       "      <td>nightlife,Bars,American (Traditional),tavern</td>\n",
       "      <td>Alabama</td>\n",
       "      <td>birmingham</td>\n",
       "      <td>5500 Crestwood Boulevard,birmingham,Alabama,35212</td>\n",
       "      <td>5500 Crestwood Blvd,Birmingham, AL 35212</td>\n",
       "      <td>(205) 510-0053</td>\n",
       "      <td>https://www.facebook.com/CrestwoodTavernBirmin...</td>\n",
       "    </tr>\n",
       "    <tr>\n",
       "      <th>3</th>\n",
       "      <td>Pale Eddie's Pour House</td>\n",
       "      <td>NaN</td>\n",
       "      <td>atm</td>\n",
       "      <td>Alabama</td>\n",
       "      <td>birmingham</td>\n",
       "      <td>2308  2nd Avenue North,birmingham,Alabama,35203</td>\n",
       "      <td>NaN</td>\n",
       "      <td>(850) 686-5251</td>\n",
       "      <td>http://easybitllc.com</td>\n",
       "    </tr>\n",
       "    <tr>\n",
       "      <th>4</th>\n",
       "      <td>Greg's Hot Dogs</td>\n",
       "      <td>NaN</td>\n",
       "      <td>food,hot dog</td>\n",
       "      <td>Alabama</td>\n",
       "      <td>birmingham</td>\n",
       "      <td>birmingham,Alabama,35203</td>\n",
       "      <td>NaN</td>\n",
       "      <td>(205) 492-9172</td>\n",
       "      <td>https://www.gregshotdogs.com</td>\n",
       "    </tr>\n",
       "  </tbody>\n",
       "</table>\n",
       "</div>"
      ],
      "text/plain": [
       "               name_coinmap          name_yelp  \\\n",
       "id                                               \n",
       "0        Eagle's Restaurant  Eagles Restaurant   \n",
       "1           Greg's Hot Dogs                NaN   \n",
       "2          Crestwood Tavern   Crestwood Tavern   \n",
       "3   Pale Eddie's Pour House                NaN   \n",
       "4           Greg's Hot Dogs                NaN   \n",
       "\n",
       "                                   business_type    state        city  \\\n",
       "id                                                                      \n",
       "0                      food,Soul Food,restaurant  Alabama  birmingham   \n",
       "1                                   food,hot dog  Alabama  birmingham   \n",
       "2   nightlife,Bars,American (Traditional),tavern  Alabama  birmingham   \n",
       "3                                            atm  Alabama  birmingham   \n",
       "4                                   food,hot dog  Alabama  birmingham   \n",
       "\n",
       "                                      address_coinmap  \\\n",
       "id                                                      \n",
       "0     2610 16th Street North,birmingham,Alabama,35207   \n",
       "1                            birmingham,Alabama,35233   \n",
       "2   5500 Crestwood Boulevard,birmingham,Alabama,35212   \n",
       "3     2308  2nd Avenue North,birmingham,Alabama,35203   \n",
       "4                            birmingham,Alabama,35203   \n",
       "\n",
       "                                address_yelp           phone  \\\n",
       "id                                                             \n",
       "0        2610 16th St N,Birmingham, AL 35204  (205) 320-0099   \n",
       "1                                        NaN  (205) 492-9172   \n",
       "2   5500 Crestwood Blvd,Birmingham, AL 35212  (205) 510-0053   \n",
       "3                                        NaN  (850) 686-5251   \n",
       "4                                        NaN  (205) 492-9172   \n",
       "\n",
       "                                              website  \n",
       "id                                                     \n",
       "0                 http://eaglesrestaurant.menufy.com/  \n",
       "1                                                 NaN  \n",
       "2   https://www.facebook.com/CrestwoodTavernBirmin...  \n",
       "3                               http://easybitllc.com  \n",
       "4                        https://www.gregshotdogs.com  "
      ]
     },
     "execution_count": 729,
     "metadata": {},
     "output_type": "execute_result"
    }
   ],
   "source": [
    "final.head()"
   ]
  },
  {
   "cell_type": "code",
   "execution_count": 75,
   "metadata": {},
   "outputs": [],
   "source": [
    "# save the final data to csv\n",
    "final.to_csv('coinmap_business_of_interest.csv')\n",
    "\n",
    "# note: there is a total of 698 records, among which 79 records are missing business type, \n",
    "# 225 records are missing phone number and 117 records are missing website. "
   ]
  }
 ],
 "metadata": {
  "kernelspec": {
   "display_name": "Python 3",
   "language": "python",
   "name": "python3"
  },
  "language_info": {
   "codemirror_mode": {
    "name": "ipython",
    "version": 3
   },
   "file_extension": ".py",
   "mimetype": "text/x-python",
   "name": "python",
   "nbconvert_exporter": "python",
   "pygments_lexer": "ipython3",
   "version": "3.6.5"
  }
 },
 "nbformat": 4,
 "nbformat_minor": 2
}
